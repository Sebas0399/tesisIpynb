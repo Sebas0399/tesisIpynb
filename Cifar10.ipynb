{
 "cells": [
  {
   "cell_type": "markdown",
   "id": "ca35a1cd",
   "metadata": {},
   "source": [
    "Librerias"
   ]
  },
  {
   "cell_type": "code",
   "execution_count": 1,
   "id": "777ed2187b8a45bf",
   "metadata": {
    "ExecuteTime": {
     "end_time": "2024-08-19T14:35:03.961834Z",
     "start_time": "2024-08-19T14:35:03.302568Z"
    }
   },
   "outputs": [
    {
     "name": "stdout",
     "output_type": "stream",
     "text": [
      "WARNING:tensorflow:From c:\\Users\\Sebas\\Desktop\\Tesis\\.venv\\lib\\site-packages\\keras\\src\\losses.py:2976: The name tf.losses.sparse_softmax_cross_entropy is deprecated. Please use tf.compat.v1.losses.sparse_softmax_cross_entropy instead.\n",
      "\n"
     ]
    }
   ],
   "source": [
    "import os\n",
    "import numpy as np\n",
    "import tensorflow as tf\n",
    "from tensorflow.keras import layers, models,utils\n",
    "from tensorflow.keras.preprocessing.image import ImageDataGenerator\n",
    "from PIL import Image\n",
    "from configparser import ConfigParser\n",
    "from ModelSelector import  ModelSelector\n",
    "from tensorflow.keras.metrics import Precision,Recall,AUC,Accuracy,F1Score,FalseNegatives,FalsePositives,MeanAbsoluteError\n",
    "from keras.callbacks import EarlyStopping\n",
    "import scipy\n"
   ]
  },
  {
   "cell_type": "markdown",
   "id": "1dfe9deb",
   "metadata": {},
   "source": [
    "Esta parte del código se encarga de a partir de un conjunto de imagenes en carpetas divididas en n clases "
   ]
  },
  {
   "cell_type": "code",
   "execution_count": 2,
   "id": "34fc680f",
   "metadata": {},
   "outputs": [],
   "source": [
    "configfile_name = \"config.ini\" \n",
    "config= ConfigParser()\n",
    "config.read(configfile_name)\n",
    "image_size = int(config.get(\"dataset\",\"image_size\"))\n",
    "color_mode=config.get(\"dataset\",\"color_mode\")\n",
    "batch_size = int(config.get(\"dataset\",\"batch_size\"))\n",
    "base_dir=config.get(\"dataset\",\"base_dir\")"
   ]
  },
  {
   "cell_type": "code",
   "execution_count": 3,
   "id": "initial_id",
   "metadata": {
    "ExecuteTime": {
     "end_time": "2024-08-19T14:35:40.752493Z",
     "start_time": "2024-08-19T14:35:37.966502Z"
    },
    "collapsed": true
   },
   "outputs": [
    {
     "name": "stdout",
     "output_type": "stream",
     "text": [
      "0.4\n",
      "0.4\n",
      "0.4\n"
     ]
    },
    {
     "ename": "OSError",
     "evalue": "[WinError 145] El directorio no está vacío: 'Nuevo'",
     "output_type": "error",
     "traceback": [
      "\u001b[1;31m---------------------------------------------------------------------------\u001b[0m",
      "\u001b[1;31mOSError\u001b[0m                                   Traceback (most recent call last)",
      "Cell \u001b[1;32mIn[3], line 4\u001b[0m\n\u001b[0;32m      2\u001b[0m \u001b[38;5;28;01mfrom\u001b[39;00m \u001b[38;5;21;01mSplitData\u001b[39;00m \u001b[38;5;28;01mimport\u001b[39;00m SplitData\n\u001b[0;32m      3\u001b[0m data\u001b[38;5;241m=\u001b[39mSplitData()\n\u001b[1;32m----> 4\u001b[0m \u001b[43mdata\u001b[49m\u001b[38;5;241;43m.\u001b[39;49m\u001b[43msplit\u001b[49m\u001b[43m(\u001b[49m\u001b[43m)\u001b[49m\n",
      "File \u001b[1;32mc:\\Users\\Sebas\\Desktop\\Tesis\\SplitData.py:51\u001b[0m, in \u001b[0;36mSplitData.split\u001b[1;34m(self)\u001b[0m\n\u001b[0;32m     49\u001b[0m             shutil\u001b[38;5;241m.\u001b[39mmove(os\u001b[38;5;241m.\u001b[39mpath\u001b[38;5;241m.\u001b[39mjoin(class_dir, img), os\u001b[38;5;241m.\u001b[39mpath\u001b[38;5;241m.\u001b[39mjoin(base_dir, \u001b[38;5;124m'\u001b[39m\u001b[38;5;124mtest\u001b[39m\u001b[38;5;124m'\u001b[39m, class_name, img))\n\u001b[0;32m     50\u001b[0m \u001b[38;5;28;01melse\u001b[39;00m:\n\u001b[1;32m---> 51\u001b[0m     \u001b[43mos\u001b[49m\u001b[38;5;241;43m.\u001b[39;49m\u001b[43mrmdir\u001b[49m\u001b[43m(\u001b[49m\u001b[38;5;124;43m'\u001b[39;49m\u001b[38;5;124;43mNuevo\u001b[39;49m\u001b[38;5;124;43m'\u001b[39;49m\u001b[43m)\u001b[49m\n",
      "\u001b[1;31mOSError\u001b[0m: [WinError 145] El directorio no está vacío: 'Nuevo'"
     ]
    }
   ],
   "source": [
    "#Dividir la data en train, validation y test\n",
    "from SplitData import SplitData\n",
    "data=SplitData()\n",
    "data.split()"
   ]
  },
  {
   "cell_type": "markdown",
   "id": "97f3b540",
   "metadata": {},
   "source": [
    "Data Augmentation"
   ]
  },
  {
   "cell_type": "code",
   "execution_count": 3,
   "id": "b56167c7",
   "metadata": {},
   "outputs": [],
   "source": [
    "datagen = ImageDataGenerator(\n",
    "    rescale=1./255,                # Normalización de imágenes\n",
    "    rotation_range=20,             # Rotar hasta 20 grados\n",
    "    width_shift_range=0.2,         # Desplazamiento horizontal\n",
    "    height_shift_range=0.2,        # Desplazamiento vertical\n",
    "    shear_range=0.2,               # Cizallamiento\n",
    "    zoom_range=0.2,                # Zoom aleatorio\n",
    "    horizontal_flip=True,          # Flip horizontal\n",
    "    fill_mode='nearest'            # Método de relleno para píxeles vacíos\n",
    ")"
   ]
  },
  {
   "cell_type": "markdown",
   "id": "e1882435",
   "metadata": {},
   "source": [
    "Lectura de datos"
   ]
  },
  {
   "cell_type": "code",
   "execution_count": 4,
   "id": "d681a2ef7de8d4ad",
   "metadata": {
    "ExecuteTime": {
     "end_time": "2024-08-19T14:36:03.277071Z",
     "start_time": "2024-08-19T14:35:58.104593Z"
    }
   },
   "outputs": [
    {
     "name": "stdout",
     "output_type": "stream",
     "text": [
      "Found 96 images belonging to 3 classes.\n",
      "Found 32 images belonging to 3 classes.\n",
      "Found 34 files belonging to 3 classes.\n"
     ]
    }
   ],
   "source": [
    "train_ds = datagen.flow_from_directory(\n",
    "    directory=os.path.join('Nuevo', 'train'),\n",
    "    target_size=(image_size, image_size),\n",
    "    batch_size=batch_size,\n",
    "    class_mode='categorical',\n",
    "    color_mode=color_mode\n",
    ")\n",
    "\n",
    "# Cargar datos de validación\n",
    "val_ds = datagen.flow_from_directory(\n",
    "    directory=os.path.join('Nuevo', 'val'),\n",
    "    target_size=(image_size, image_size),\n",
    "    batch_size=batch_size,\n",
    "    class_mode='categorical',\n",
    "    color_mode=color_mode\n",
    "\n",
    ")\n",
    "\n",
    "# Cargar datos de prueba\n",
    "test_ds = tf.keras.preprocessing.image_dataset_from_directory(\n",
    "    directory=os.path.join('Nuevo', 'test'),\n",
    "    image_size=(image_size, image_size),\n",
    "    batch_size=batch_size,\n",
    "    label_mode='categorical',\n",
    "    color_mode=color_mode\n",
    "\n",
    ")\n"
   ]
  },
  {
   "cell_type": "markdown",
   "id": "0c1edae7",
   "metadata": {},
   "source": [
    "Cargar un modelo preentrenado"
   ]
  },
  {
   "cell_type": "code",
   "execution_count": 6,
   "id": "ec4713ada02b91d9",
   "metadata": {
    "ExecuteTime": {
     "end_time": "2024-08-18T22:27:15.414586Z",
     "start_time": "2024-08-18T22:26:41.188075Z"
    }
   },
   "outputs": [
    {
     "name": "stdout",
     "output_type": "stream",
     "text": [
      "WARNING:tensorflow:From c:\\Users\\Sebas\\Desktop\\Tesis\\.venv\\lib\\site-packages\\keras\\src\\backend.py:1398: The name tf.executing_eagerly_outside_functions is deprecated. Please use tf.compat.v1.executing_eagerly_outside_functions instead.\n",
      "\n",
      "WARNING:tensorflow:From c:\\Users\\Sebas\\Desktop\\Tesis\\.venv\\lib\\site-packages\\keras\\src\\layers\\normalization\\batch_normalization.py:979: The name tf.nn.fused_batch_norm is deprecated. Please use tf.compat.v1.nn.fused_batch_norm instead.\n",
      "\n",
      "Downloading data from https://storage.googleapis.com/tensorflow/keras-applications/resnet/resnet50_weights_tf_dim_ordering_tf_kernels_notop.h5\n",
      "94765736/94765736 [==============================] - 11s 0us/step\n",
      "Model: \"resnet50\"\n",
      "__________________________________________________________________________________________________\n",
      " Layer (type)                Output Shape                 Param #   Connected to                  \n",
      "==================================================================================================\n",
      " input_1 (InputLayer)        [(None, 96, 96, 3)]          0         []                            \n",
      "                                                                                                  \n",
      " conv1_pad (ZeroPadding2D)   (None, 102, 102, 3)          0         ['input_1[0][0]']             \n",
      "                                                                                                  \n",
      " conv1_conv (Conv2D)         (None, 48, 48, 64)           9472      ['conv1_pad[0][0]']           \n",
      "                                                                                                  \n",
      " conv1_bn (BatchNormalizati  (None, 48, 48, 64)           256       ['conv1_conv[0][0]']          \n",
      " on)                                                                                              \n",
      "                                                                                                  \n",
      " conv1_relu (Activation)     (None, 48, 48, 64)           0         ['conv1_bn[0][0]']            \n",
      "                                                                                                  \n",
      " pool1_pad (ZeroPadding2D)   (None, 50, 50, 64)           0         ['conv1_relu[0][0]']          \n",
      "                                                                                                  \n",
      " pool1_pool (MaxPooling2D)   (None, 24, 24, 64)           0         ['pool1_pad[0][0]']           \n",
      "                                                                                                  \n",
      " conv2_block1_1_conv (Conv2  (None, 24, 24, 64)           4160      ['pool1_pool[0][0]']          \n",
      " D)                                                                                               \n",
      "                                                                                                  \n",
      " conv2_block1_1_bn (BatchNo  (None, 24, 24, 64)           256       ['conv2_block1_1_conv[0][0]'] \n",
      " rmalization)                                                                                     \n",
      "                                                                                                  \n",
      " conv2_block1_1_relu (Activ  (None, 24, 24, 64)           0         ['conv2_block1_1_bn[0][0]']   \n",
      " ation)                                                                                           \n",
      "                                                                                                  \n",
      " conv2_block1_2_conv (Conv2  (None, 24, 24, 64)           36928     ['conv2_block1_1_relu[0][0]'] \n",
      " D)                                                                                               \n",
      "                                                                                                  \n",
      " conv2_block1_2_bn (BatchNo  (None, 24, 24, 64)           256       ['conv2_block1_2_conv[0][0]'] \n",
      " rmalization)                                                                                     \n",
      "                                                                                                  \n",
      " conv2_block1_2_relu (Activ  (None, 24, 24, 64)           0         ['conv2_block1_2_bn[0][0]']   \n",
      " ation)                                                                                           \n",
      "                                                                                                  \n",
      " conv2_block1_0_conv (Conv2  (None, 24, 24, 256)          16640     ['pool1_pool[0][0]']          \n",
      " D)                                                                                               \n",
      "                                                                                                  \n",
      " conv2_block1_3_conv (Conv2  (None, 24, 24, 256)          16640     ['conv2_block1_2_relu[0][0]'] \n",
      " D)                                                                                               \n",
      "                                                                                                  \n",
      " conv2_block1_0_bn (BatchNo  (None, 24, 24, 256)          1024      ['conv2_block1_0_conv[0][0]'] \n",
      " rmalization)                                                                                     \n",
      "                                                                                                  \n",
      " conv2_block1_3_bn (BatchNo  (None, 24, 24, 256)          1024      ['conv2_block1_3_conv[0][0]'] \n",
      " rmalization)                                                                                     \n",
      "                                                                                                  \n",
      " conv2_block1_add (Add)      (None, 24, 24, 256)          0         ['conv2_block1_0_bn[0][0]',   \n",
      "                                                                     'conv2_block1_3_bn[0][0]']   \n",
      "                                                                                                  \n",
      " conv2_block1_out (Activati  (None, 24, 24, 256)          0         ['conv2_block1_add[0][0]']    \n",
      " on)                                                                                              \n",
      "                                                                                                  \n",
      " conv2_block2_1_conv (Conv2  (None, 24, 24, 64)           16448     ['conv2_block1_out[0][0]']    \n",
      " D)                                                                                               \n",
      "                                                                                                  \n",
      " conv2_block2_1_bn (BatchNo  (None, 24, 24, 64)           256       ['conv2_block2_1_conv[0][0]'] \n",
      " rmalization)                                                                                     \n",
      "                                                                                                  \n",
      " conv2_block2_1_relu (Activ  (None, 24, 24, 64)           0         ['conv2_block2_1_bn[0][0]']   \n",
      " ation)                                                                                           \n",
      "                                                                                                  \n",
      " conv2_block2_2_conv (Conv2  (None, 24, 24, 64)           36928     ['conv2_block2_1_relu[0][0]'] \n",
      " D)                                                                                               \n",
      "                                                                                                  \n",
      " conv2_block2_2_bn (BatchNo  (None, 24, 24, 64)           256       ['conv2_block2_2_conv[0][0]'] \n",
      " rmalization)                                                                                     \n",
      "                                                                                                  \n",
      " conv2_block2_2_relu (Activ  (None, 24, 24, 64)           0         ['conv2_block2_2_bn[0][0]']   \n",
      " ation)                                                                                           \n",
      "                                                                                                  \n",
      " conv2_block2_3_conv (Conv2  (None, 24, 24, 256)          16640     ['conv2_block2_2_relu[0][0]'] \n",
      " D)                                                                                               \n",
      "                                                                                                  \n",
      " conv2_block2_3_bn (BatchNo  (None, 24, 24, 256)          1024      ['conv2_block2_3_conv[0][0]'] \n",
      " rmalization)                                                                                     \n",
      "                                                                                                  \n",
      " conv2_block2_add (Add)      (None, 24, 24, 256)          0         ['conv2_block1_out[0][0]',    \n",
      "                                                                     'conv2_block2_3_bn[0][0]']   \n",
      "                                                                                                  \n",
      " conv2_block2_out (Activati  (None, 24, 24, 256)          0         ['conv2_block2_add[0][0]']    \n",
      " on)                                                                                              \n",
      "                                                                                                  \n",
      " conv2_block3_1_conv (Conv2  (None, 24, 24, 64)           16448     ['conv2_block2_out[0][0]']    \n",
      " D)                                                                                               \n",
      "                                                                                                  \n",
      " conv2_block3_1_bn (BatchNo  (None, 24, 24, 64)           256       ['conv2_block3_1_conv[0][0]'] \n",
      " rmalization)                                                                                     \n",
      "                                                                                                  \n",
      " conv2_block3_1_relu (Activ  (None, 24, 24, 64)           0         ['conv2_block3_1_bn[0][0]']   \n",
      " ation)                                                                                           \n",
      "                                                                                                  \n",
      " conv2_block3_2_conv (Conv2  (None, 24, 24, 64)           36928     ['conv2_block3_1_relu[0][0]'] \n",
      " D)                                                                                               \n",
      "                                                                                                  \n",
      " conv2_block3_2_bn (BatchNo  (None, 24, 24, 64)           256       ['conv2_block3_2_conv[0][0]'] \n",
      " rmalization)                                                                                     \n",
      "                                                                                                  \n",
      " conv2_block3_2_relu (Activ  (None, 24, 24, 64)           0         ['conv2_block3_2_bn[0][0]']   \n",
      " ation)                                                                                           \n",
      "                                                                                                  \n",
      " conv2_block3_3_conv (Conv2  (None, 24, 24, 256)          16640     ['conv2_block3_2_relu[0][0]'] \n",
      " D)                                                                                               \n",
      "                                                                                                  \n",
      " conv2_block3_3_bn (BatchNo  (None, 24, 24, 256)          1024      ['conv2_block3_3_conv[0][0]'] \n",
      " rmalization)                                                                                     \n",
      "                                                                                                  \n",
      " conv2_block3_add (Add)      (None, 24, 24, 256)          0         ['conv2_block2_out[0][0]',    \n",
      "                                                                     'conv2_block3_3_bn[0][0]']   \n",
      "                                                                                                  \n",
      " conv2_block3_out (Activati  (None, 24, 24, 256)          0         ['conv2_block3_add[0][0]']    \n",
      " on)                                                                                              \n",
      "                                                                                                  \n",
      " conv3_block1_1_conv (Conv2  (None, 12, 12, 128)          32896     ['conv2_block3_out[0][0]']    \n",
      " D)                                                                                               \n",
      "                                                                                                  \n",
      " conv3_block1_1_bn (BatchNo  (None, 12, 12, 128)          512       ['conv3_block1_1_conv[0][0]'] \n",
      " rmalization)                                                                                     \n",
      "                                                                                                  \n",
      " conv3_block1_1_relu (Activ  (None, 12, 12, 128)          0         ['conv3_block1_1_bn[0][0]']   \n",
      " ation)                                                                                           \n",
      "                                                                                                  \n",
      " conv3_block1_2_conv (Conv2  (None, 12, 12, 128)          147584    ['conv3_block1_1_relu[0][0]'] \n",
      " D)                                                                                               \n",
      "                                                                                                  \n",
      " conv3_block1_2_bn (BatchNo  (None, 12, 12, 128)          512       ['conv3_block1_2_conv[0][0]'] \n",
      " rmalization)                                                                                     \n",
      "                                                                                                  \n",
      " conv3_block1_2_relu (Activ  (None, 12, 12, 128)          0         ['conv3_block1_2_bn[0][0]']   \n",
      " ation)                                                                                           \n",
      "                                                                                                  \n",
      " conv3_block1_0_conv (Conv2  (None, 12, 12, 512)          131584    ['conv2_block3_out[0][0]']    \n",
      " D)                                                                                               \n",
      "                                                                                                  \n",
      " conv3_block1_3_conv (Conv2  (None, 12, 12, 512)          66048     ['conv3_block1_2_relu[0][0]'] \n",
      " D)                                                                                               \n",
      "                                                                                                  \n",
      " conv3_block1_0_bn (BatchNo  (None, 12, 12, 512)          2048      ['conv3_block1_0_conv[0][0]'] \n",
      " rmalization)                                                                                     \n",
      "                                                                                                  \n",
      " conv3_block1_3_bn (BatchNo  (None, 12, 12, 512)          2048      ['conv3_block1_3_conv[0][0]'] \n",
      " rmalization)                                                                                     \n",
      "                                                                                                  \n",
      " conv3_block1_add (Add)      (None, 12, 12, 512)          0         ['conv3_block1_0_bn[0][0]',   \n",
      "                                                                     'conv3_block1_3_bn[0][0]']   \n",
      "                                                                                                  \n",
      " conv3_block1_out (Activati  (None, 12, 12, 512)          0         ['conv3_block1_add[0][0]']    \n",
      " on)                                                                                              \n",
      "                                                                                                  \n",
      " conv3_block2_1_conv (Conv2  (None, 12, 12, 128)          65664     ['conv3_block1_out[0][0]']    \n",
      " D)                                                                                               \n",
      "                                                                                                  \n",
      " conv3_block2_1_bn (BatchNo  (None, 12, 12, 128)          512       ['conv3_block2_1_conv[0][0]'] \n",
      " rmalization)                                                                                     \n",
      "                                                                                                  \n",
      " conv3_block2_1_relu (Activ  (None, 12, 12, 128)          0         ['conv3_block2_1_bn[0][0]']   \n",
      " ation)                                                                                           \n",
      "                                                                                                  \n",
      " conv3_block2_2_conv (Conv2  (None, 12, 12, 128)          147584    ['conv3_block2_1_relu[0][0]'] \n",
      " D)                                                                                               \n",
      "                                                                                                  \n",
      " conv3_block2_2_bn (BatchNo  (None, 12, 12, 128)          512       ['conv3_block2_2_conv[0][0]'] \n",
      " rmalization)                                                                                     \n",
      "                                                                                                  \n",
      " conv3_block2_2_relu (Activ  (None, 12, 12, 128)          0         ['conv3_block2_2_bn[0][0]']   \n",
      " ation)                                                                                           \n",
      "                                                                                                  \n",
      " conv3_block2_3_conv (Conv2  (None, 12, 12, 512)          66048     ['conv3_block2_2_relu[0][0]'] \n",
      " D)                                                                                               \n",
      "                                                                                                  \n",
      " conv3_block2_3_bn (BatchNo  (None, 12, 12, 512)          2048      ['conv3_block2_3_conv[0][0]'] \n",
      " rmalization)                                                                                     \n",
      "                                                                                                  \n",
      " conv3_block2_add (Add)      (None, 12, 12, 512)          0         ['conv3_block1_out[0][0]',    \n",
      "                                                                     'conv3_block2_3_bn[0][0]']   \n",
      "                                                                                                  \n",
      " conv3_block2_out (Activati  (None, 12, 12, 512)          0         ['conv3_block2_add[0][0]']    \n",
      " on)                                                                                              \n",
      "                                                                                                  \n",
      " conv3_block3_1_conv (Conv2  (None, 12, 12, 128)          65664     ['conv3_block2_out[0][0]']    \n",
      " D)                                                                                               \n",
      "                                                                                                  \n",
      " conv3_block3_1_bn (BatchNo  (None, 12, 12, 128)          512       ['conv3_block3_1_conv[0][0]'] \n",
      " rmalization)                                                                                     \n",
      "                                                                                                  \n",
      " conv3_block3_1_relu (Activ  (None, 12, 12, 128)          0         ['conv3_block3_1_bn[0][0]']   \n",
      " ation)                                                                                           \n",
      "                                                                                                  \n",
      " conv3_block3_2_conv (Conv2  (None, 12, 12, 128)          147584    ['conv3_block3_1_relu[0][0]'] \n",
      " D)                                                                                               \n",
      "                                                                                                  \n",
      " conv3_block3_2_bn (BatchNo  (None, 12, 12, 128)          512       ['conv3_block3_2_conv[0][0]'] \n",
      " rmalization)                                                                                     \n",
      "                                                                                                  \n",
      " conv3_block3_2_relu (Activ  (None, 12, 12, 128)          0         ['conv3_block3_2_bn[0][0]']   \n",
      " ation)                                                                                           \n",
      "                                                                                                  \n",
      " conv3_block3_3_conv (Conv2  (None, 12, 12, 512)          66048     ['conv3_block3_2_relu[0][0]'] \n",
      " D)                                                                                               \n",
      "                                                                                                  \n",
      " conv3_block3_3_bn (BatchNo  (None, 12, 12, 512)          2048      ['conv3_block3_3_conv[0][0]'] \n",
      " rmalization)                                                                                     \n",
      "                                                                                                  \n",
      " conv3_block3_add (Add)      (None, 12, 12, 512)          0         ['conv3_block2_out[0][0]',    \n",
      "                                                                     'conv3_block3_3_bn[0][0]']   \n",
      "                                                                                                  \n",
      " conv3_block3_out (Activati  (None, 12, 12, 512)          0         ['conv3_block3_add[0][0]']    \n",
      " on)                                                                                              \n",
      "                                                                                                  \n",
      " conv3_block4_1_conv (Conv2  (None, 12, 12, 128)          65664     ['conv3_block3_out[0][0]']    \n",
      " D)                                                                                               \n",
      "                                                                                                  \n",
      " conv3_block4_1_bn (BatchNo  (None, 12, 12, 128)          512       ['conv3_block4_1_conv[0][0]'] \n",
      " rmalization)                                                                                     \n",
      "                                                                                                  \n",
      " conv3_block4_1_relu (Activ  (None, 12, 12, 128)          0         ['conv3_block4_1_bn[0][0]']   \n",
      " ation)                                                                                           \n",
      "                                                                                                  \n",
      " conv3_block4_2_conv (Conv2  (None, 12, 12, 128)          147584    ['conv3_block4_1_relu[0][0]'] \n",
      " D)                                                                                               \n",
      "                                                                                                  \n",
      " conv3_block4_2_bn (BatchNo  (None, 12, 12, 128)          512       ['conv3_block4_2_conv[0][0]'] \n",
      " rmalization)                                                                                     \n",
      "                                                                                                  \n",
      " conv3_block4_2_relu (Activ  (None, 12, 12, 128)          0         ['conv3_block4_2_bn[0][0]']   \n",
      " ation)                                                                                           \n",
      "                                                                                                  \n",
      " conv3_block4_3_conv (Conv2  (None, 12, 12, 512)          66048     ['conv3_block4_2_relu[0][0]'] \n",
      " D)                                                                                               \n",
      "                                                                                                  \n",
      " conv3_block4_3_bn (BatchNo  (None, 12, 12, 512)          2048      ['conv3_block4_3_conv[0][0]'] \n",
      " rmalization)                                                                                     \n",
      "                                                                                                  \n",
      " conv3_block4_add (Add)      (None, 12, 12, 512)          0         ['conv3_block3_out[0][0]',    \n",
      "                                                                     'conv3_block4_3_bn[0][0]']   \n",
      "                                                                                                  \n",
      " conv3_block4_out (Activati  (None, 12, 12, 512)          0         ['conv3_block4_add[0][0]']    \n",
      " on)                                                                                              \n",
      "                                                                                                  \n",
      " conv4_block1_1_conv (Conv2  (None, 6, 6, 256)            131328    ['conv3_block4_out[0][0]']    \n",
      " D)                                                                                               \n",
      "                                                                                                  \n",
      " conv4_block1_1_bn (BatchNo  (None, 6, 6, 256)            1024      ['conv4_block1_1_conv[0][0]'] \n",
      " rmalization)                                                                                     \n",
      "                                                                                                  \n",
      " conv4_block1_1_relu (Activ  (None, 6, 6, 256)            0         ['conv4_block1_1_bn[0][0]']   \n",
      " ation)                                                                                           \n",
      "                                                                                                  \n",
      " conv4_block1_2_conv (Conv2  (None, 6, 6, 256)            590080    ['conv4_block1_1_relu[0][0]'] \n",
      " D)                                                                                               \n",
      "                                                                                                  \n",
      " conv4_block1_2_bn (BatchNo  (None, 6, 6, 256)            1024      ['conv4_block1_2_conv[0][0]'] \n",
      " rmalization)                                                                                     \n",
      "                                                                                                  \n",
      " conv4_block1_2_relu (Activ  (None, 6, 6, 256)            0         ['conv4_block1_2_bn[0][0]']   \n",
      " ation)                                                                                           \n",
      "                                                                                                  \n",
      " conv4_block1_0_conv (Conv2  (None, 6, 6, 1024)           525312    ['conv3_block4_out[0][0]']    \n",
      " D)                                                                                               \n",
      "                                                                                                  \n",
      " conv4_block1_3_conv (Conv2  (None, 6, 6, 1024)           263168    ['conv4_block1_2_relu[0][0]'] \n",
      " D)                                                                                               \n",
      "                                                                                                  \n",
      " conv4_block1_0_bn (BatchNo  (None, 6, 6, 1024)           4096      ['conv4_block1_0_conv[0][0]'] \n",
      " rmalization)                                                                                     \n",
      "                                                                                                  \n",
      " conv4_block1_3_bn (BatchNo  (None, 6, 6, 1024)           4096      ['conv4_block1_3_conv[0][0]'] \n",
      " rmalization)                                                                                     \n",
      "                                                                                                  \n",
      " conv4_block1_add (Add)      (None, 6, 6, 1024)           0         ['conv4_block1_0_bn[0][0]',   \n",
      "                                                                     'conv4_block1_3_bn[0][0]']   \n",
      "                                                                                                  \n",
      " conv4_block1_out (Activati  (None, 6, 6, 1024)           0         ['conv4_block1_add[0][0]']    \n",
      " on)                                                                                              \n",
      "                                                                                                  \n",
      " conv4_block2_1_conv (Conv2  (None, 6, 6, 256)            262400    ['conv4_block1_out[0][0]']    \n",
      " D)                                                                                               \n",
      "                                                                                                  \n",
      " conv4_block2_1_bn (BatchNo  (None, 6, 6, 256)            1024      ['conv4_block2_1_conv[0][0]'] \n",
      " rmalization)                                                                                     \n",
      "                                                                                                  \n",
      " conv4_block2_1_relu (Activ  (None, 6, 6, 256)            0         ['conv4_block2_1_bn[0][0]']   \n",
      " ation)                                                                                           \n",
      "                                                                                                  \n",
      " conv4_block2_2_conv (Conv2  (None, 6, 6, 256)            590080    ['conv4_block2_1_relu[0][0]'] \n",
      " D)                                                                                               \n",
      "                                                                                                  \n",
      " conv4_block2_2_bn (BatchNo  (None, 6, 6, 256)            1024      ['conv4_block2_2_conv[0][0]'] \n",
      " rmalization)                                                                                     \n",
      "                                                                                                  \n",
      " conv4_block2_2_relu (Activ  (None, 6, 6, 256)            0         ['conv4_block2_2_bn[0][0]']   \n",
      " ation)                                                                                           \n",
      "                                                                                                  \n",
      " conv4_block2_3_conv (Conv2  (None, 6, 6, 1024)           263168    ['conv4_block2_2_relu[0][0]'] \n",
      " D)                                                                                               \n",
      "                                                                                                  \n",
      " conv4_block2_3_bn (BatchNo  (None, 6, 6, 1024)           4096      ['conv4_block2_3_conv[0][0]'] \n",
      " rmalization)                                                                                     \n",
      "                                                                                                  \n",
      " conv4_block2_add (Add)      (None, 6, 6, 1024)           0         ['conv4_block1_out[0][0]',    \n",
      "                                                                     'conv4_block2_3_bn[0][0]']   \n",
      "                                                                                                  \n",
      " conv4_block2_out (Activati  (None, 6, 6, 1024)           0         ['conv4_block2_add[0][0]']    \n",
      " on)                                                                                              \n",
      "                                                                                                  \n",
      " conv4_block3_1_conv (Conv2  (None, 6, 6, 256)            262400    ['conv4_block2_out[0][0]']    \n",
      " D)                                                                                               \n",
      "                                                                                                  \n",
      " conv4_block3_1_bn (BatchNo  (None, 6, 6, 256)            1024      ['conv4_block3_1_conv[0][0]'] \n",
      " rmalization)                                                                                     \n",
      "                                                                                                  \n",
      " conv4_block3_1_relu (Activ  (None, 6, 6, 256)            0         ['conv4_block3_1_bn[0][0]']   \n",
      " ation)                                                                                           \n",
      "                                                                                                  \n",
      " conv4_block3_2_conv (Conv2  (None, 6, 6, 256)            590080    ['conv4_block3_1_relu[0][0]'] \n",
      " D)                                                                                               \n",
      "                                                                                                  \n",
      " conv4_block3_2_bn (BatchNo  (None, 6, 6, 256)            1024      ['conv4_block3_2_conv[0][0]'] \n",
      " rmalization)                                                                                     \n",
      "                                                                                                  \n",
      " conv4_block3_2_relu (Activ  (None, 6, 6, 256)            0         ['conv4_block3_2_bn[0][0]']   \n",
      " ation)                                                                                           \n",
      "                                                                                                  \n",
      " conv4_block3_3_conv (Conv2  (None, 6, 6, 1024)           263168    ['conv4_block3_2_relu[0][0]'] \n",
      " D)                                                                                               \n",
      "                                                                                                  \n",
      " conv4_block3_3_bn (BatchNo  (None, 6, 6, 1024)           4096      ['conv4_block3_3_conv[0][0]'] \n",
      " rmalization)                                                                                     \n",
      "                                                                                                  \n",
      " conv4_block3_add (Add)      (None, 6, 6, 1024)           0         ['conv4_block2_out[0][0]',    \n",
      "                                                                     'conv4_block3_3_bn[0][0]']   \n",
      "                                                                                                  \n",
      " conv4_block3_out (Activati  (None, 6, 6, 1024)           0         ['conv4_block3_add[0][0]']    \n",
      " on)                                                                                              \n",
      "                                                                                                  \n",
      " conv4_block4_1_conv (Conv2  (None, 6, 6, 256)            262400    ['conv4_block3_out[0][0]']    \n",
      " D)                                                                                               \n",
      "                                                                                                  \n",
      " conv4_block4_1_bn (BatchNo  (None, 6, 6, 256)            1024      ['conv4_block4_1_conv[0][0]'] \n",
      " rmalization)                                                                                     \n",
      "                                                                                                  \n",
      " conv4_block4_1_relu (Activ  (None, 6, 6, 256)            0         ['conv4_block4_1_bn[0][0]']   \n",
      " ation)                                                                                           \n",
      "                                                                                                  \n",
      " conv4_block4_2_conv (Conv2  (None, 6, 6, 256)            590080    ['conv4_block4_1_relu[0][0]'] \n",
      " D)                                                                                               \n",
      "                                                                                                  \n",
      " conv4_block4_2_bn (BatchNo  (None, 6, 6, 256)            1024      ['conv4_block4_2_conv[0][0]'] \n",
      " rmalization)                                                                                     \n",
      "                                                                                                  \n",
      " conv4_block4_2_relu (Activ  (None, 6, 6, 256)            0         ['conv4_block4_2_bn[0][0]']   \n",
      " ation)                                                                                           \n",
      "                                                                                                  \n",
      " conv4_block4_3_conv (Conv2  (None, 6, 6, 1024)           263168    ['conv4_block4_2_relu[0][0]'] \n",
      " D)                                                                                               \n",
      "                                                                                                  \n",
      " conv4_block4_3_bn (BatchNo  (None, 6, 6, 1024)           4096      ['conv4_block4_3_conv[0][0]'] \n",
      " rmalization)                                                                                     \n",
      "                                                                                                  \n",
      " conv4_block4_add (Add)      (None, 6, 6, 1024)           0         ['conv4_block3_out[0][0]',    \n",
      "                                                                     'conv4_block4_3_bn[0][0]']   \n",
      "                                                                                                  \n",
      " conv4_block4_out (Activati  (None, 6, 6, 1024)           0         ['conv4_block4_add[0][0]']    \n",
      " on)                                                                                              \n",
      "                                                                                                  \n",
      " conv4_block5_1_conv (Conv2  (None, 6, 6, 256)            262400    ['conv4_block4_out[0][0]']    \n",
      " D)                                                                                               \n",
      "                                                                                                  \n",
      " conv4_block5_1_bn (BatchNo  (None, 6, 6, 256)            1024      ['conv4_block5_1_conv[0][0]'] \n",
      " rmalization)                                                                                     \n",
      "                                                                                                  \n",
      " conv4_block5_1_relu (Activ  (None, 6, 6, 256)            0         ['conv4_block5_1_bn[0][0]']   \n",
      " ation)                                                                                           \n",
      "                                                                                                  \n",
      " conv4_block5_2_conv (Conv2  (None, 6, 6, 256)            590080    ['conv4_block5_1_relu[0][0]'] \n",
      " D)                                                                                               \n",
      "                                                                                                  \n",
      " conv4_block5_2_bn (BatchNo  (None, 6, 6, 256)            1024      ['conv4_block5_2_conv[0][0]'] \n",
      " rmalization)                                                                                     \n",
      "                                                                                                  \n",
      " conv4_block5_2_relu (Activ  (None, 6, 6, 256)            0         ['conv4_block5_2_bn[0][0]']   \n",
      " ation)                                                                                           \n",
      "                                                                                                  \n",
      " conv4_block5_3_conv (Conv2  (None, 6, 6, 1024)           263168    ['conv4_block5_2_relu[0][0]'] \n",
      " D)                                                                                               \n",
      "                                                                                                  \n",
      " conv4_block5_3_bn (BatchNo  (None, 6, 6, 1024)           4096      ['conv4_block5_3_conv[0][0]'] \n",
      " rmalization)                                                                                     \n",
      "                                                                                                  \n",
      " conv4_block5_add (Add)      (None, 6, 6, 1024)           0         ['conv4_block4_out[0][0]',    \n",
      "                                                                     'conv4_block5_3_bn[0][0]']   \n",
      "                                                                                                  \n",
      " conv4_block5_out (Activati  (None, 6, 6, 1024)           0         ['conv4_block5_add[0][0]']    \n",
      " on)                                                                                              \n",
      "                                                                                                  \n",
      " conv4_block6_1_conv (Conv2  (None, 6, 6, 256)            262400    ['conv4_block5_out[0][0]']    \n",
      " D)                                                                                               \n",
      "                                                                                                  \n",
      " conv4_block6_1_bn (BatchNo  (None, 6, 6, 256)            1024      ['conv4_block6_1_conv[0][0]'] \n",
      " rmalization)                                                                                     \n",
      "                                                                                                  \n",
      " conv4_block6_1_relu (Activ  (None, 6, 6, 256)            0         ['conv4_block6_1_bn[0][0]']   \n",
      " ation)                                                                                           \n",
      "                                                                                                  \n",
      " conv4_block6_2_conv (Conv2  (None, 6, 6, 256)            590080    ['conv4_block6_1_relu[0][0]'] \n",
      " D)                                                                                               \n",
      "                                                                                                  \n",
      " conv4_block6_2_bn (BatchNo  (None, 6, 6, 256)            1024      ['conv4_block6_2_conv[0][0]'] \n",
      " rmalization)                                                                                     \n",
      "                                                                                                  \n",
      " conv4_block6_2_relu (Activ  (None, 6, 6, 256)            0         ['conv4_block6_2_bn[0][0]']   \n",
      " ation)                                                                                           \n",
      "                                                                                                  \n",
      " conv4_block6_3_conv (Conv2  (None, 6, 6, 1024)           263168    ['conv4_block6_2_relu[0][0]'] \n",
      " D)                                                                                               \n",
      "                                                                                                  \n",
      " conv4_block6_3_bn (BatchNo  (None, 6, 6, 1024)           4096      ['conv4_block6_3_conv[0][0]'] \n",
      " rmalization)                                                                                     \n",
      "                                                                                                  \n",
      " conv4_block6_add (Add)      (None, 6, 6, 1024)           0         ['conv4_block5_out[0][0]',    \n",
      "                                                                     'conv4_block6_3_bn[0][0]']   \n",
      "                                                                                                  \n",
      " conv4_block6_out (Activati  (None, 6, 6, 1024)           0         ['conv4_block6_add[0][0]']    \n",
      " on)                                                                                              \n",
      "                                                                                                  \n",
      " conv5_block1_1_conv (Conv2  (None, 3, 3, 512)            524800    ['conv4_block6_out[0][0]']    \n",
      " D)                                                                                               \n",
      "                                                                                                  \n",
      " conv5_block1_1_bn (BatchNo  (None, 3, 3, 512)            2048      ['conv5_block1_1_conv[0][0]'] \n",
      " rmalization)                                                                                     \n",
      "                                                                                                  \n",
      " conv5_block1_1_relu (Activ  (None, 3, 3, 512)            0         ['conv5_block1_1_bn[0][0]']   \n",
      " ation)                                                                                           \n",
      "                                                                                                  \n",
      " conv5_block1_2_conv (Conv2  (None, 3, 3, 512)            2359808   ['conv5_block1_1_relu[0][0]'] \n",
      " D)                                                                                               \n",
      "                                                                                                  \n",
      " conv5_block1_2_bn (BatchNo  (None, 3, 3, 512)            2048      ['conv5_block1_2_conv[0][0]'] \n",
      " rmalization)                                                                                     \n",
      "                                                                                                  \n",
      " conv5_block1_2_relu (Activ  (None, 3, 3, 512)            0         ['conv5_block1_2_bn[0][0]']   \n",
      " ation)                                                                                           \n",
      "                                                                                                  \n",
      " conv5_block1_0_conv (Conv2  (None, 3, 3, 2048)           2099200   ['conv4_block6_out[0][0]']    \n",
      " D)                                                                                               \n",
      "                                                                                                  \n",
      " conv5_block1_3_conv (Conv2  (None, 3, 3, 2048)           1050624   ['conv5_block1_2_relu[0][0]'] \n",
      " D)                                                                                               \n",
      "                                                                                                  \n",
      " conv5_block1_0_bn (BatchNo  (None, 3, 3, 2048)           8192      ['conv5_block1_0_conv[0][0]'] \n",
      " rmalization)                                                                                     \n",
      "                                                                                                  \n",
      " conv5_block1_3_bn (BatchNo  (None, 3, 3, 2048)           8192      ['conv5_block1_3_conv[0][0]'] \n",
      " rmalization)                                                                                     \n",
      "                                                                                                  \n",
      " conv5_block1_add (Add)      (None, 3, 3, 2048)           0         ['conv5_block1_0_bn[0][0]',   \n",
      "                                                                     'conv5_block1_3_bn[0][0]']   \n",
      "                                                                                                  \n",
      " conv5_block1_out (Activati  (None, 3, 3, 2048)           0         ['conv5_block1_add[0][0]']    \n",
      " on)                                                                                              \n",
      "                                                                                                  \n",
      " conv5_block2_1_conv (Conv2  (None, 3, 3, 512)            1049088   ['conv5_block1_out[0][0]']    \n",
      " D)                                                                                               \n",
      "                                                                                                  \n",
      " conv5_block2_1_bn (BatchNo  (None, 3, 3, 512)            2048      ['conv5_block2_1_conv[0][0]'] \n",
      " rmalization)                                                                                     \n",
      "                                                                                                  \n",
      " conv5_block2_1_relu (Activ  (None, 3, 3, 512)            0         ['conv5_block2_1_bn[0][0]']   \n",
      " ation)                                                                                           \n",
      "                                                                                                  \n",
      " conv5_block2_2_conv (Conv2  (None, 3, 3, 512)            2359808   ['conv5_block2_1_relu[0][0]'] \n",
      " D)                                                                                               \n",
      "                                                                                                  \n",
      " conv5_block2_2_bn (BatchNo  (None, 3, 3, 512)            2048      ['conv5_block2_2_conv[0][0]'] \n",
      " rmalization)                                                                                     \n",
      "                                                                                                  \n",
      " conv5_block2_2_relu (Activ  (None, 3, 3, 512)            0         ['conv5_block2_2_bn[0][0]']   \n",
      " ation)                                                                                           \n",
      "                                                                                                  \n",
      " conv5_block2_3_conv (Conv2  (None, 3, 3, 2048)           1050624   ['conv5_block2_2_relu[0][0]'] \n",
      " D)                                                                                               \n",
      "                                                                                                  \n",
      " conv5_block2_3_bn (BatchNo  (None, 3, 3, 2048)           8192      ['conv5_block2_3_conv[0][0]'] \n",
      " rmalization)                                                                                     \n",
      "                                                                                                  \n",
      " conv5_block2_add (Add)      (None, 3, 3, 2048)           0         ['conv5_block1_out[0][0]',    \n",
      "                                                                     'conv5_block2_3_bn[0][0]']   \n",
      "                                                                                                  \n",
      " conv5_block2_out (Activati  (None, 3, 3, 2048)           0         ['conv5_block2_add[0][0]']    \n",
      " on)                                                                                              \n",
      "                                                                                                  \n",
      " conv5_block3_1_conv (Conv2  (None, 3, 3, 512)            1049088   ['conv5_block2_out[0][0]']    \n",
      " D)                                                                                               \n",
      "                                                                                                  \n",
      " conv5_block3_1_bn (BatchNo  (None, 3, 3, 512)            2048      ['conv5_block3_1_conv[0][0]'] \n",
      " rmalization)                                                                                     \n",
      "                                                                                                  \n",
      " conv5_block3_1_relu (Activ  (None, 3, 3, 512)            0         ['conv5_block3_1_bn[0][0]']   \n",
      " ation)                                                                                           \n",
      "                                                                                                  \n",
      " conv5_block3_2_conv (Conv2  (None, 3, 3, 512)            2359808   ['conv5_block3_1_relu[0][0]'] \n",
      " D)                                                                                               \n",
      "                                                                                                  \n",
      " conv5_block3_2_bn (BatchNo  (None, 3, 3, 512)            2048      ['conv5_block3_2_conv[0][0]'] \n",
      " rmalization)                                                                                     \n",
      "                                                                                                  \n",
      " conv5_block3_2_relu (Activ  (None, 3, 3, 512)            0         ['conv5_block3_2_bn[0][0]']   \n",
      " ation)                                                                                           \n",
      "                                                                                                  \n",
      " conv5_block3_3_conv (Conv2  (None, 3, 3, 2048)           1050624   ['conv5_block3_2_relu[0][0]'] \n",
      " D)                                                                                               \n",
      "                                                                                                  \n",
      " conv5_block3_3_bn (BatchNo  (None, 3, 3, 2048)           8192      ['conv5_block3_3_conv[0][0]'] \n",
      " rmalization)                                                                                     \n",
      "                                                                                                  \n",
      " conv5_block3_add (Add)      (None, 3, 3, 2048)           0         ['conv5_block2_out[0][0]',    \n",
      "                                                                     'conv5_block3_3_bn[0][0]']   \n",
      "                                                                                                  \n",
      " conv5_block3_out (Activati  (None, 3, 3, 2048)           0         ['conv5_block3_add[0][0]']    \n",
      " on)                                                                                              \n",
      "                                                                                                  \n",
      "==================================================================================================\n",
      "Total params: 23587712 (89.98 MB)\n",
      "Trainable params: 0 (0.00 Byte)\n",
      "Non-trainable params: 23587712 (89.98 MB)\n",
      "__________________________________________________________________________________________________\n"
     ]
    }
   ],
   "source": [
    "# Crear una instancia de ModelSelector\n",
    "selector = ModelSelector(image_size=image_size, color_space='RGB', model='resnet50')\n",
    "# Cargar el modelo especificado\n",
    "selected_model = selector.load_model()\n",
    "# Mostrar la arquitectura del modelo\n",
    "selected_model.summary()"
   ]
  },
  {
   "cell_type": "code",
   "execution_count": 7,
   "id": "64766e9a8fa72d",
   "metadata": {
    "ExecuteTime": {
     "end_time": "2024-08-19T14:49:03.148512Z",
     "start_time": "2024-08-19T14:49:03.020220Z"
    }
   },
   "outputs": [
    {
     "name": "stdout",
     "output_type": "stream",
     "text": [
      "Model: \"sequential\"\n",
      "_________________________________________________________________\n",
      " Layer (type)                Output Shape              Param #   \n",
      "=================================================================\n",
      " resnet50 (Functional)       (None, 3, 3, 2048)        23587712  \n",
      "                                                                 \n",
      " global_max_pooling2d (Glob  (None, 2048)              0         \n",
      " alMaxPooling2D)                                                 \n",
      "                                                                 \n",
      " dense (Dense)               (None, 3)                 6147      \n",
      "                                                                 \n",
      "=================================================================\n",
      "Total params: 23593859 (90.00 MB)\n",
      "Trainable params: 6147 (24.01 KB)\n",
      "Non-trainable params: 23587712 (89.98 MB)\n",
      "_________________________________________________________________\n"
     ]
    }
   ],
   "source": [
    "\n",
    "# Definir el modelo\n",
    "model = models.Sequential([\n",
    "    selected_model,\n",
    "    layers.GlobalMaxPooling2D(),  # Global Max Pooling\n",
    "    layers.Dense(train_ds.num_classes, activation='softmax')  # Output layer for 20 classes\n",
    "\n",
    "])\n",
    "\n",
    "# Mostrar un resumen del modelo\n",
    "model.summary()\n"
   ]
  },
  {
   "cell_type": "code",
   "execution_count": 11,
   "id": "d687b8b4",
   "metadata": {},
   "outputs": [],
   "source": [
    "%load_ext tensorboard"
   ]
  },
  {
   "cell_type": "code",
   "execution_count": 8,
   "id": "f691cd20",
   "metadata": {},
   "outputs": [],
   "source": [
    "checkpoint_filepath = './ckpt_resnet/ckpt/checkpoint_{epoch}.keras'\n",
    "log_dir=\"./ckpt_resnet\""
   ]
  },
  {
   "cell_type": "code",
   "execution_count": 12,
   "id": "e0c4a7b2",
   "metadata": {},
   "outputs": [],
   "source": [
    "tensorboard_callback = tf.keras.callbacks.TensorBoard(log_dir=log_dir, histogram_freq=1)\n",
    "early_stopping = tf.keras.callbacks.EarlyStopping(monitor='precision', patience=10, restore_best_weights=True)\n",
    "model_checkpoint_callback = tf.keras.callbacks.ModelCheckpoint(\n",
    "    filepath=checkpoint_filepath,verbose=1,    save_best_only=True,\n",
    ")"
   ]
  },
  {
   "cell_type": "markdown",
   "id": "be173139",
   "metadata": {},
   "source": [
    "Metricas"
   ]
  },
  {
   "cell_type": "code",
   "execution_count": 13,
   "id": "7fdc891c5c1d2191",
   "metadata": {
    "ExecuteTime": {
     "end_time": "2024-08-19T14:41:48.140033Z",
     "start_time": "2024-08-19T14:41:48.130523Z"
    }
   },
   "outputs": [],
   "source": [
    "model.compile(\n",
    "    optimizer='adam',\n",
    "    loss='categorical_crossentropy',  # Cambiar a 'sparse_categorical_crossentropy' si las etiquetas no están en formato one-hot\n",
    "    metrics=[Precision(), Recall(), AUC(), 'accuracy', FalseNegatives(), FalsePositives(), MeanAbsoluteError()]\n",
    ")\n"
   ]
  },
  {
   "cell_type": "markdown",
   "id": "e94687a0",
   "metadata": {},
   "source": [
    "Train"
   ]
  },
  {
   "cell_type": "code",
   "execution_count": 14,
   "id": "496ca83ba9610215",
   "metadata": {
    "ExecuteTime": {
     "end_time": "2024-08-19T14:44:14.925955Z",
     "start_time": "2024-08-19T14:41:49.974916Z"
    }
   },
   "outputs": [
    {
     "name": "stdout",
     "output_type": "stream",
     "text": [
      "Epoch 1/20\n",
      "WARNING:tensorflow:From c:\\Users\\Sebas\\Desktop\\Tesis\\.venv\\lib\\site-packages\\keras\\src\\utils\\tf_utils.py:492: The name tf.ragged.RaggedTensorValue is deprecated. Please use tf.compat.v1.ragged.RaggedTensorValue instead.\n",
      "\n",
      "WARNING:tensorflow:From c:\\Users\\Sebas\\Desktop\\Tesis\\.venv\\lib\\site-packages\\keras\\src\\engine\\base_layer_utils.py:384: The name tf.executing_eagerly_outside_functions is deprecated. Please use tf.compat.v1.executing_eagerly_outside_functions instead.\n",
      "\n",
      "3/3 [==============================] - ETA: 0s - loss: 1.4684 - precision_1: 0.5000 - recall_1: 0.5000 - auc_1: 0.5439 - accuracy: 0.5000 - false_negatives_1: 48.0000 - false_positives_1: 48.0000 - mean_absolute_error: 0.3901\n",
      "Epoch 1: val_loss improved from inf to 1.28656, saving model to ./ckpt_resnet/ckpt\\checkpoint_1.keras\n",
      "WARNING:tensorflow:Early stopping conditioned on metric `precision` which is not available. Available metrics are: loss,precision_1,recall_1,auc_1,accuracy,false_negatives_1,false_positives_1,mean_absolute_error,val_loss,val_precision_1,val_recall_1,val_auc_1,val_accuracy,val_false_negatives_1,val_false_positives_1,val_mean_absolute_error\n",
      "3/3 [==============================] - 34s 12s/step - loss: 1.4684 - precision_1: 0.5000 - recall_1: 0.5000 - auc_1: 0.5439 - accuracy: 0.5000 - false_negatives_1: 48.0000 - false_positives_1: 48.0000 - mean_absolute_error: 0.3901 - val_loss: 1.2866 - val_precision_1: 0.5000 - val_recall_1: 0.5000 - val_auc_1: 0.5769 - val_accuracy: 0.5000 - val_false_negatives_1: 16.0000 - val_false_positives_1: 16.0000 - val_mean_absolute_error: 0.3932\n",
      "Epoch 2/20\n",
      "3/3 [==============================] - ETA: 0s - loss: 1.2233 - precision_1: 0.5000 - recall_1: 0.5000 - auc_1: 0.5790 - accuracy: 0.5000 - false_negatives_1: 48.0000 - false_positives_1: 48.0000 - mean_absolute_error: 0.3982\n",
      "Epoch 2: val_loss improved from 1.28656 to 1.10297, saving model to ./ckpt_resnet/ckpt\\checkpoint_2.keras\n",
      "WARNING:tensorflow:Early stopping conditioned on metric `precision` which is not available. Available metrics are: loss,precision_1,recall_1,auc_1,accuracy,false_negatives_1,false_positives_1,mean_absolute_error,val_loss,val_precision_1,val_recall_1,val_auc_1,val_accuracy,val_false_negatives_1,val_false_positives_1,val_mean_absolute_error\n",
      "3/3 [==============================] - 22s 9s/step - loss: 1.2233 - precision_1: 0.5000 - recall_1: 0.5000 - auc_1: 0.5790 - accuracy: 0.5000 - false_negatives_1: 48.0000 - false_positives_1: 48.0000 - mean_absolute_error: 0.3982 - val_loss: 1.1030 - val_precision_1: 0.5000 - val_recall_1: 0.5000 - val_auc_1: 0.6086 - val_accuracy: 0.5000 - val_false_negatives_1: 16.0000 - val_false_positives_1: 16.0000 - val_mean_absolute_error: 0.3999\n",
      "Epoch 3/20\n",
      "3/3 [==============================] - ETA: 0s - loss: 1.0810 - precision_1: 0.4947 - recall_1: 0.4896 - auc_1: 0.5830 - accuracy: 0.5000 - false_negatives_1: 49.0000 - false_positives_1: 48.0000 - mean_absolute_error: 0.4050\n",
      "Epoch 3: val_loss improved from 1.10297 to 0.99624, saving model to ./ckpt_resnet/ckpt\\checkpoint_3.keras\n",
      "WARNING:tensorflow:Early stopping conditioned on metric `precision` which is not available. Available metrics are: loss,precision_1,recall_1,auc_1,accuracy,false_negatives_1,false_positives_1,mean_absolute_error,val_loss,val_precision_1,val_recall_1,val_auc_1,val_accuracy,val_false_negatives_1,val_false_positives_1,val_mean_absolute_error\n",
      "3/3 [==============================] - 22s 9s/step - loss: 1.0810 - precision_1: 0.4947 - recall_1: 0.4896 - auc_1: 0.5830 - accuracy: 0.5000 - false_negatives_1: 49.0000 - false_positives_1: 48.0000 - mean_absolute_error: 0.4050 - val_loss: 0.9962 - val_precision_1: 0.5333 - val_recall_1: 0.5000 - val_auc_1: 0.7273 - val_accuracy: 0.5000 - val_false_negatives_1: 16.0000 - val_false_positives_1: 14.0000 - val_mean_absolute_error: 0.4028\n",
      "Epoch 4/20\n",
      "3/3 [==============================] - ETA: 0s - loss: 1.0005 - precision_1: 0.5714 - recall_1: 0.2917 - auc_1: 0.6905 - accuracy: 0.5000 - false_negatives_1: 68.0000 - false_positives_1: 21.0000 - mean_absolute_error: 0.4056\n",
      "Epoch 4: val_loss did not improve from 0.99624\n",
      "WARNING:tensorflow:Early stopping conditioned on metric `precision` which is not available. Available metrics are: loss,precision_1,recall_1,auc_1,accuracy,false_negatives_1,false_positives_1,mean_absolute_error,val_loss,val_precision_1,val_recall_1,val_auc_1,val_accuracy,val_false_negatives_1,val_false_positives_1,val_mean_absolute_error\n",
      "3/3 [==============================] - 20s 8s/step - loss: 1.0005 - precision_1: 0.5714 - recall_1: 0.2917 - auc_1: 0.6905 - accuracy: 0.5000 - false_negatives_1: 68.0000 - false_positives_1: 21.0000 - mean_absolute_error: 0.4056 - val_loss: 1.0135 - val_precision_1: 0.0000e+00 - val_recall_1: 0.0000e+00 - val_auc_1: 0.6741 - val_accuracy: 0.5000 - val_false_negatives_1: 32.0000 - val_false_positives_1: 0.0000e+00 - val_mean_absolute_error: 0.4106\n",
      "Epoch 5/20\n",
      "3/3 [==============================] - ETA: 0s - loss: 1.0236 - precision_1: 0.0000e+00 - recall_1: 0.0000e+00 - auc_1: 0.6289 - accuracy: 0.4271 - false_negatives_1: 96.0000 - false_positives_1: 1.0000 - mean_absolute_error: 0.4126    \n",
      "Epoch 5: val_loss did not improve from 0.99624\n",
      "WARNING:tensorflow:Early stopping conditioned on metric `precision` which is not available. Available metrics are: loss,precision_1,recall_1,auc_1,accuracy,false_negatives_1,false_positives_1,mean_absolute_error,val_loss,val_precision_1,val_recall_1,val_auc_1,val_accuracy,val_false_negatives_1,val_false_positives_1,val_mean_absolute_error\n",
      "3/3 [==============================] - 20s 8s/step - loss: 1.0236 - precision_1: 0.0000e+00 - recall_1: 0.0000e+00 - auc_1: 0.6289 - accuracy: 0.4271 - false_negatives_1: 96.0000 - false_positives_1: 1.0000 - mean_absolute_error: 0.4126 - val_loss: 1.0412 - val_precision_1: 0.5000 - val_recall_1: 0.0312 - val_auc_1: 0.5933 - val_accuracy: 0.3438 - val_false_negatives_1: 31.0000 - val_false_positives_1: 1.0000 - val_mean_absolute_error: 0.4139\n",
      "Epoch 6/20\n",
      "3/3 [==============================] - ETA: 0s - loss: 1.0484 - precision_1: 0.4222 - recall_1: 0.1979 - auc_1: 0.6071 - accuracy: 0.3438 - false_negatives_1: 77.0000 - false_positives_1: 26.0000 - mean_absolute_error: 0.4121  \n",
      "Epoch 6: val_loss did not improve from 0.99624\n",
      "WARNING:tensorflow:Early stopping conditioned on metric `precision` which is not available. Available metrics are: loss,precision_1,recall_1,auc_1,accuracy,false_negatives_1,false_positives_1,mean_absolute_error,val_loss,val_precision_1,val_recall_1,val_auc_1,val_accuracy,val_false_negatives_1,val_false_positives_1,val_mean_absolute_error\n",
      "3/3 [==============================] - 20s 8s/step - loss: 1.0484 - precision_1: 0.4222 - recall_1: 0.1979 - auc_1: 0.6071 - accuracy: 0.3438 - false_negatives_1: 77.0000 - false_positives_1: 26.0000 - mean_absolute_error: 0.4121 - val_loss: 1.0427 - val_precision_1: 0.5333 - val_recall_1: 0.2500 - val_auc_1: 0.6306 - val_accuracy: 0.3438 - val_false_negatives_1: 24.0000 - val_false_positives_1: 7.0000 - val_mean_absolute_error: 0.4098\n",
      "Epoch 7/20\n",
      "3/3 [==============================] - ETA: 0s - loss: 1.0455 - precision_1: 0.3667 - recall_1: 0.1146 - auc_1: 0.6027 - accuracy: 0.3646 - false_negatives_1: 85.0000 - false_positives_1: 19.0000 - mean_absolute_error: 0.4101\n",
      "Epoch 7: val_loss did not improve from 0.99624\n",
      "WARNING:tensorflow:Early stopping conditioned on metric `precision` which is not available. Available metrics are: loss,precision_1,recall_1,auc_1,accuracy,false_negatives_1,false_positives_1,mean_absolute_error,val_loss,val_precision_1,val_recall_1,val_auc_1,val_accuracy,val_false_negatives_1,val_false_positives_1,val_mean_absolute_error\n",
      "3/3 [==============================] - 21s 8s/step - loss: 1.0455 - precision_1: 0.3667 - recall_1: 0.1146 - auc_1: 0.6027 - accuracy: 0.3646 - false_negatives_1: 85.0000 - false_positives_1: 19.0000 - mean_absolute_error: 0.4101 - val_loss: 1.0211 - val_precision_1: 0.0000e+00 - val_recall_1: 0.0000e+00 - val_auc_1: 0.6475 - val_accuracy: 0.4062 - val_false_negatives_1: 32.0000 - val_false_positives_1: 0.0000e+00 - val_mean_absolute_error: 0.4061\n",
      "Epoch 8/20\n",
      "3/3 [==============================] - ETA: 0s - loss: 1.0317 - precision_1: 0.0000e+00 - recall_1: 0.0000e+00 - auc_1: 0.6255 - accuracy: 0.4167 - false_negatives_1: 96.0000 - false_positives_1: 1.0000 - mean_absolute_error: 0.4070    \n",
      "Epoch 8: val_loss did not improve from 0.99624\n",
      "WARNING:tensorflow:Early stopping conditioned on metric `precision` which is not available. Available metrics are: loss,precision_1,recall_1,auc_1,accuracy,false_negatives_1,false_positives_1,mean_absolute_error,val_loss,val_precision_1,val_recall_1,val_auc_1,val_accuracy,val_false_negatives_1,val_false_positives_1,val_mean_absolute_error\n",
      "3/3 [==============================] - 20s 8s/step - loss: 1.0317 - precision_1: 0.0000e+00 - recall_1: 0.0000e+00 - auc_1: 0.6255 - accuracy: 0.4167 - false_negatives_1: 96.0000 - false_positives_1: 1.0000 - mean_absolute_error: 0.4070 - val_loss: 0.9978 - val_precision_1: 0.5000 - val_recall_1: 0.1562 - val_auc_1: 0.7075 - val_accuracy: 0.5312 - val_false_negatives_1: 27.0000 - val_false_positives_1: 5.0000 - val_mean_absolute_error: 0.3992\n",
      "Epoch 9/20\n",
      "3/3 [==============================] - ETA: 0s - loss: 1.0062 - precision_1: 0.5273 - recall_1: 0.3021 - auc_1: 0.6833 - accuracy: 0.5000 - false_negatives_1: 67.0000 - false_positives_1: 26.0000 - mean_absolute_error: 0.3994\n",
      "Epoch 9: val_loss did not improve from 0.99624\n",
      "WARNING:tensorflow:Early stopping conditioned on metric `precision` which is not available. Available metrics are: loss,precision_1,recall_1,auc_1,accuracy,false_negatives_1,false_positives_1,mean_absolute_error,val_loss,val_precision_1,val_recall_1,val_auc_1,val_accuracy,val_false_negatives_1,val_false_positives_1,val_mean_absolute_error\n",
      "3/3 [==============================] - 20s 8s/step - loss: 1.0062 - precision_1: 0.5273 - recall_1: 0.3021 - auc_1: 0.6833 - accuracy: 0.5000 - false_negatives_1: 67.0000 - false_positives_1: 26.0000 - mean_absolute_error: 0.3994 - val_loss: 1.0168 - val_precision_1: 0.5000 - val_recall_1: 0.5000 - val_auc_1: 0.6506 - val_accuracy: 0.5000 - val_false_negatives_1: 16.0000 - val_false_positives_1: 16.0000 - val_mean_absolute_error: 0.4010\n",
      "Epoch 10/20\n",
      "3/3 [==============================] - ETA: 0s - loss: 1.0084 - precision_1: 0.5053 - recall_1: 0.5000 - auc_1: 0.6700 - accuracy: 0.5000 - false_negatives_1: 48.0000 - false_positives_1: 47.0000 - mean_absolute_error: 0.3979\n",
      "Epoch 10: val_loss did not improve from 0.99624\n",
      "WARNING:tensorflow:Early stopping conditioned on metric `precision` which is not available. Available metrics are: loss,precision_1,recall_1,auc_1,accuracy,false_negatives_1,false_positives_1,mean_absolute_error,val_loss,val_precision_1,val_recall_1,val_auc_1,val_accuracy,val_false_negatives_1,val_false_positives_1,val_mean_absolute_error\n",
      "3/3 [==============================] - 19s 8s/step - loss: 1.0084 - precision_1: 0.5053 - recall_1: 0.5000 - auc_1: 0.6700 - accuracy: 0.5000 - false_negatives_1: 48.0000 - false_positives_1: 47.0000 - mean_absolute_error: 0.3979 - val_loss: 1.0165 - val_precision_1: 0.5000 - val_recall_1: 0.5000 - val_auc_1: 0.6663 - val_accuracy: 0.5000 - val_false_negatives_1: 16.0000 - val_false_positives_1: 16.0000 - val_mean_absolute_error: 0.3977\n",
      "Epoch 11/20\n",
      "3/3 [==============================] - ETA: 0s - loss: 1.0115 - precision_1: 0.5000 - recall_1: 0.5000 - auc_1: 0.6683 - accuracy: 0.5000 - false_negatives_1: 48.0000 - false_positives_1: 48.0000 - mean_absolute_error: 0.3965\n",
      "Epoch 11: val_loss did not improve from 0.99624\n",
      "WARNING:tensorflow:Early stopping conditioned on metric `precision` which is not available. Available metrics are: loss,precision_1,recall_1,auc_1,accuracy,false_negatives_1,false_positives_1,mean_absolute_error,val_loss,val_precision_1,val_recall_1,val_auc_1,val_accuracy,val_false_negatives_1,val_false_positives_1,val_mean_absolute_error\n",
      "3/3 [==============================] - 19s 8s/step - loss: 1.0115 - precision_1: 0.5000 - recall_1: 0.5000 - auc_1: 0.6683 - accuracy: 0.5000 - false_negatives_1: 48.0000 - false_positives_1: 48.0000 - mean_absolute_error: 0.3965 - val_loss: 1.0044 - val_precision_1: 0.5000 - val_recall_1: 0.5000 - val_auc_1: 0.6868 - val_accuracy: 0.5000 - val_false_negatives_1: 16.0000 - val_false_positives_1: 16.0000 - val_mean_absolute_error: 0.3959\n",
      "Epoch 12/20\n",
      "3/3 [==============================] - ETA: 0s - loss: 1.0095 - precision_1: 0.4947 - recall_1: 0.4896 - auc_1: 0.6766 - accuracy: 0.5000 - false_negatives_1: 49.0000 - false_positives_1: 48.0000 - mean_absolute_error: 0.3999\n",
      "Epoch 12: val_loss did not improve from 0.99624\n",
      "WARNING:tensorflow:Early stopping conditioned on metric `precision` which is not available. Available metrics are: loss,precision_1,recall_1,auc_1,accuracy,false_negatives_1,false_positives_1,mean_absolute_error,val_loss,val_precision_1,val_recall_1,val_auc_1,val_accuracy,val_false_negatives_1,val_false_positives_1,val_mean_absolute_error\n",
      "3/3 [==============================] - 20s 8s/step - loss: 1.0095 - precision_1: 0.4947 - recall_1: 0.4896 - auc_1: 0.6766 - accuracy: 0.5000 - false_negatives_1: 49.0000 - false_positives_1: 48.0000 - mean_absolute_error: 0.3999 - val_loss: 0.9993 - val_precision_1: 0.5517 - val_recall_1: 0.5000 - val_auc_1: 0.6843 - val_accuracy: 0.5000 - val_false_negatives_1: 16.0000 - val_false_positives_1: 13.0000 - val_mean_absolute_error: 0.4016\n",
      "Epoch 13/20\n",
      "3/3 [==============================] - ETA: 0s - loss: 1.0076 - precision_1: 0.5143 - recall_1: 0.3750 - auc_1: 0.6730 - accuracy: 0.5000 - false_negatives_1: 60.0000 - false_positives_1: 34.0000 - mean_absolute_error: 0.4042\n",
      "Epoch 13: val_loss improved from 0.99624 to 0.99174, saving model to ./ckpt_resnet/ckpt\\checkpoint_13.keras\n",
      "WARNING:tensorflow:Early stopping conditioned on metric `precision` which is not available. Available metrics are: loss,precision_1,recall_1,auc_1,accuracy,false_negatives_1,false_positives_1,mean_absolute_error,val_loss,val_precision_1,val_recall_1,val_auc_1,val_accuracy,val_false_negatives_1,val_false_positives_1,val_mean_absolute_error\n",
      "3/3 [==============================] - 23s 9s/step - loss: 1.0076 - precision_1: 0.5143 - recall_1: 0.3750 - auc_1: 0.6730 - accuracy: 0.5000 - false_negatives_1: 60.0000 - false_positives_1: 34.0000 - mean_absolute_error: 0.4042 - val_loss: 0.9917 - val_precision_1: 0.5833 - val_recall_1: 0.2188 - val_auc_1: 0.7134 - val_accuracy: 0.5000 - val_false_negatives_1: 25.0000 - val_false_positives_1: 5.0000 - val_mean_absolute_error: 0.4037\n",
      "Epoch 14/20\n",
      "3/3 [==============================] - ETA: 0s - loss: 1.0031 - precision_1: 0.6111 - recall_1: 0.1146 - auc_1: 0.6734 - accuracy: 0.5000 - false_negatives_1: 85.0000 - false_positives_1: 7.0000 - mean_absolute_error: 0.4081\n",
      "Epoch 14: val_loss did not improve from 0.99174\n",
      "WARNING:tensorflow:Early stopping conditioned on metric `precision` which is not available. Available metrics are: loss,precision_1,recall_1,auc_1,accuracy,false_negatives_1,false_positives_1,mean_absolute_error,val_loss,val_precision_1,val_recall_1,val_auc_1,val_accuracy,val_false_negatives_1,val_false_positives_1,val_mean_absolute_error\n",
      "3/3 [==============================] - 22s 9s/step - loss: 1.0031 - precision_1: 0.6111 - recall_1: 0.1146 - auc_1: 0.6734 - accuracy: 0.5000 - false_negatives_1: 85.0000 - false_positives_1: 7.0000 - mean_absolute_error: 0.4081 - val_loss: 0.9931 - val_precision_1: 0.6667 - val_recall_1: 0.1875 - val_auc_1: 0.7031 - val_accuracy: 0.5000 - val_false_negatives_1: 26.0000 - val_false_positives_1: 3.0000 - val_mean_absolute_error: 0.4053\n",
      "Epoch 15/20\n",
      "3/3 [==============================] - ETA: 0s - loss: 0.9934 - precision_1: 0.8462 - recall_1: 0.1146 - auc_1: 0.7014 - accuracy: 0.5000 - false_negatives_1: 85.0000 - false_positives_1: 2.0000 - mean_absolute_error: 0.4065\n",
      "Epoch 15: val_loss improved from 0.99174 to 0.98916, saving model to ./ckpt_resnet/ckpt\\checkpoint_15.keras\n",
      "WARNING:tensorflow:Early stopping conditioned on metric `precision` which is not available. Available metrics are: loss,precision_1,recall_1,auc_1,accuracy,false_negatives_1,false_positives_1,mean_absolute_error,val_loss,val_precision_1,val_recall_1,val_auc_1,val_accuracy,val_false_negatives_1,val_false_positives_1,val_mean_absolute_error\n",
      "3/3 [==============================] - 21s 9s/step - loss: 0.9934 - precision_1: 0.8462 - recall_1: 0.1146 - auc_1: 0.7014 - accuracy: 0.5000 - false_negatives_1: 85.0000 - false_positives_1: 2.0000 - mean_absolute_error: 0.4065 - val_loss: 0.9892 - val_precision_1: 0.5000 - val_recall_1: 0.0625 - val_auc_1: 0.7126 - val_accuracy: 0.5000 - val_false_negatives_1: 30.0000 - val_false_positives_1: 2.0000 - val_mean_absolute_error: 0.4046\n",
      "Epoch 16/20\n",
      "3/3 [==============================] - ETA: 0s - loss: 1.0002 - precision_1: 0.5294 - recall_1: 0.0938 - auc_1: 0.6746 - accuracy: 0.5000 - false_negatives_1: 87.0000 - false_positives_1: 8.0000 - mean_absolute_error: 0.4057  \n",
      "Epoch 16: val_loss did not improve from 0.98916\n",
      "WARNING:tensorflow:Early stopping conditioned on metric `precision` which is not available. Available metrics are: loss,precision_1,recall_1,auc_1,accuracy,false_negatives_1,false_positives_1,mean_absolute_error,val_loss,val_precision_1,val_recall_1,val_auc_1,val_accuracy,val_false_negatives_1,val_false_positives_1,val_mean_absolute_error\n",
      "3/3 [==============================] - 20s 8s/step - loss: 1.0002 - precision_1: 0.5294 - recall_1: 0.0938 - auc_1: 0.6746 - accuracy: 0.5000 - false_negatives_1: 87.0000 - false_positives_1: 8.0000 - mean_absolute_error: 0.4057 - val_loss: 0.9926 - val_precision_1: 0.6667 - val_recall_1: 0.1875 - val_auc_1: 0.7273 - val_accuracy: 0.5000 - val_false_negatives_1: 26.0000 - val_false_positives_1: 3.0000 - val_mean_absolute_error: 0.4036\n",
      "Epoch 17/20\n",
      "3/3 [==============================] - ETA: 0s - loss: 0.9929 - precision_1: 0.7000 - recall_1: 0.1458 - auc_1: 0.7025 - accuracy: 0.5000 - false_negatives_1: 82.0000 - false_positives_1: 6.0000 - mean_absolute_error: 0.4034  \n",
      "Epoch 17: val_loss did not improve from 0.98916\n",
      "WARNING:tensorflow:Early stopping conditioned on metric `precision` which is not available. Available metrics are: loss,precision_1,recall_1,auc_1,accuracy,false_negatives_1,false_positives_1,mean_absolute_error,val_loss,val_precision_1,val_recall_1,val_auc_1,val_accuracy,val_false_negatives_1,val_false_positives_1,val_mean_absolute_error\n",
      "3/3 [==============================] - 20s 8s/step - loss: 0.9929 - precision_1: 0.7000 - recall_1: 0.1458 - auc_1: 0.7025 - accuracy: 0.5000 - false_negatives_1: 82.0000 - false_positives_1: 6.0000 - mean_absolute_error: 0.4034 - val_loss: 1.0015 - val_precision_1: 0.0000e+00 - val_recall_1: 0.0000e+00 - val_auc_1: 0.6951 - val_accuracy: 0.5000 - val_false_negatives_1: 32.0000 - val_false_positives_1: 2.0000 - val_mean_absolute_error: 0.4064\n",
      "Epoch 18/20\n",
      "3/3 [==============================] - ETA: 0s - loss: 0.9805 - precision_1: 0.6875 - recall_1: 0.2292 - auc_1: 0.7121 - accuracy: 0.5000 - false_negatives_1: 74.0000 - false_positives_1: 10.0000 - mean_absolute_error: 0.3979\n",
      "Epoch 18: val_loss did not improve from 0.98916\n",
      "WARNING:tensorflow:Early stopping conditioned on metric `precision` which is not available. Available metrics are: loss,precision_1,recall_1,auc_1,accuracy,false_negatives_1,false_positives_1,mean_absolute_error,val_loss,val_precision_1,val_recall_1,val_auc_1,val_accuracy,val_false_negatives_1,val_false_positives_1,val_mean_absolute_error\n",
      "3/3 [==============================] - 20s 8s/step - loss: 0.9805 - precision_1: 0.6875 - recall_1: 0.2292 - auc_1: 0.7121 - accuracy: 0.5000 - false_negatives_1: 74.0000 - false_positives_1: 10.0000 - mean_absolute_error: 0.3979 - val_loss: 0.9926 - val_precision_1: 0.5714 - val_recall_1: 0.2500 - val_auc_1: 0.7007 - val_accuracy: 0.5000 - val_false_negatives_1: 24.0000 - val_false_positives_1: 6.0000 - val_mean_absolute_error: 0.3999\n",
      "Epoch 19/20\n",
      "3/3 [==============================] - ETA: 0s - loss: 0.9908 - precision_1: 0.6053 - recall_1: 0.2396 - auc_1: 0.6948 - accuracy: 0.5000 - false_negatives_1: 73.0000 - false_positives_1: 15.0000 - mean_absolute_error: 0.3973\n",
      "Epoch 19: val_loss did not improve from 0.98916\n",
      "WARNING:tensorflow:Early stopping conditioned on metric `precision` which is not available. Available metrics are: loss,precision_1,recall_1,auc_1,accuracy,false_negatives_1,false_positives_1,mean_absolute_error,val_loss,val_precision_1,val_recall_1,val_auc_1,val_accuracy,val_false_negatives_1,val_false_positives_1,val_mean_absolute_error\n",
      "3/3 [==============================] - 20s 8s/step - loss: 0.9908 - precision_1: 0.6053 - recall_1: 0.2396 - auc_1: 0.6948 - accuracy: 0.5000 - false_negatives_1: 73.0000 - false_positives_1: 15.0000 - mean_absolute_error: 0.3973 - val_loss: 1.0220 - val_precision_1: 0.2857 - val_recall_1: 0.1250 - val_auc_1: 0.6392 - val_accuracy: 0.5000 - val_false_negatives_1: 28.0000 - val_false_positives_1: 10.0000 - val_mean_absolute_error: 0.4071\n",
      "Epoch 20/20\n",
      "3/3 [==============================] - ETA: 0s - loss: 0.9856 - precision_1: 0.6000 - recall_1: 0.2500 - auc_1: 0.7134 - accuracy: 0.5000 - false_negatives_1: 72.0000 - false_positives_1: 16.0000 - mean_absolute_error: 0.3980\n",
      "Epoch 20: val_loss did not improve from 0.98916\n",
      "WARNING:tensorflow:Early stopping conditioned on metric `precision` which is not available. Available metrics are: loss,precision_1,recall_1,auc_1,accuracy,false_negatives_1,false_positives_1,mean_absolute_error,val_loss,val_precision_1,val_recall_1,val_auc_1,val_accuracy,val_false_negatives_1,val_false_positives_1,val_mean_absolute_error\n",
      "3/3 [==============================] - 20s 8s/step - loss: 0.9856 - precision_1: 0.6000 - recall_1: 0.2500 - auc_1: 0.7134 - accuracy: 0.5000 - false_negatives_1: 72.0000 - false_positives_1: 16.0000 - mean_absolute_error: 0.3980 - val_loss: 1.0047 - val_precision_1: 0.4000 - val_recall_1: 0.1250 - val_auc_1: 0.6770 - val_accuracy: 0.5000 - val_false_negatives_1: 28.0000 - val_false_positives_1: 6.0000 - val_mean_absolute_error: 0.4051\n"
     ]
    }
   ],
   "source": [
    "history = model.fit(\n",
    "    train_ds,\n",
    "    validation_data=val_ds,\n",
    "    epochs=20,  # Puedes ajustar el número de épocas,\n",
    "    callbacks=[tensorboard_callback, model_checkpoint_callback,early_stopping]\n",
    ")\n"
   ]
  },
  {
   "cell_type": "markdown",
   "id": "4fafc160",
   "metadata": {},
   "source": [
    "TensorBoard"
   ]
  },
  {
   "cell_type": "code",
   "execution_count": 15,
   "id": "ff7c1727",
   "metadata": {},
   "outputs": [
    {
     "data": {
      "text/html": [
       "\n",
       "      <iframe id=\"tensorboard-frame-1ad622436ee2060a\" width=\"100%\" height=\"800\" frameborder=\"0\">\n",
       "      </iframe>\n",
       "      <script>\n",
       "        (function() {\n",
       "          const frame = document.getElementById(\"tensorboard-frame-1ad622436ee2060a\");\n",
       "          const url = new URL(\"/\", window.location);\n",
       "          const port = 7001;\n",
       "          if (port) {\n",
       "            url.port = port;\n",
       "          }\n",
       "          frame.src = url;\n",
       "        })();\n",
       "      </script>\n",
       "    "
      ],
      "text/plain": [
       "<IPython.core.display.HTML object>"
      ]
     },
     "metadata": {},
     "output_type": "display_data"
    }
   ],
   "source": [
    "%tensorboard --logdir './ckpt_resnet' --port=7001"
   ]
  },
  {
   "cell_type": "code",
   "execution_count": 17,
   "id": "d2adbc19155aaf27",
   "metadata": {
    "ExecuteTime": {
     "end_time": "2024-08-19T14:44:25.198410Z",
     "start_time": "2024-08-19T14:44:23.359309Z"
    }
   },
   "outputs": [
    {
     "name": "stdout",
     "output_type": "stream",
     "text": [
      "2/2 [==============================] - 1s 52ms/step - loss: 2.5130 - precision: 0.5000 - recall: 0.5000 - auc: 0.5614 - accuracy: 0.5000 - false_negatives: 17.0000 - false_positives: 17.0000 - mean_absolute_error: 0.3447\n",
      "[2.512974262237549, 0.5, 0.5, 0.5614186525344849, 0.5, 17.0, 17.0, 0.34468382596969604]\n",
      "Values: 2.512974262237549, 0.5, 0.5, 0.5614186525344849, 0.5, 17.0, 17.0, 0.34468382596969604\n"
     ]
    }
   ],
   "source": [
    "test_acc = model.evaluate(test_ds)\n",
    "print(test_acc)\n",
    "formatted_string = \"Values: {}\".format(\", \".join(map(str, test_acc)))\n",
    "print(formatted_string)"
   ]
  },
  {
   "cell_type": "code",
   "execution_count": 18,
   "id": "a77f3864",
   "metadata": {},
   "outputs": [
    {
     "name": "stderr",
     "output_type": "stream",
     "text": [
      "c:\\Users\\Sebas\\Desktop\\Tesis\\.venv\\lib\\site-packages\\keras\\src\\engine\\training.py:3103: UserWarning: You are saving your model as an HDF5 file via `model.save()`. This file format is considered legacy. We recommend using instead the native Keras format, e.g. `model.save('my_model.keras')`.\n",
      "  saving_api.save_model(\n"
     ]
    }
   ],
   "source": [
    "model.save('model.h5')"
   ]
  },
  {
   "cell_type": "code",
   "execution_count": 19,
   "id": "19eb66d5351c33c2",
   "metadata": {
    "ExecuteTime": {
     "end_time": "2024-08-19T14:44:30.526219Z",
     "start_time": "2024-08-19T14:44:28.276249Z"
    }
   },
   "outputs": [
    {
     "name": "stdout",
     "output_type": "stream",
     "text": [
      "2/2 [==============================] - 2s 34ms/step\n"
     ]
    }
   ],
   "source": [
    "y_pred=model.predict(test_ds)\n",
    "y_pred_label=np.argmax(y_pred, axis=1)"
   ]
  },
  {
   "cell_type": "code",
   "execution_count": 20,
   "id": "7b7a68aad2dffdb2",
   "metadata": {
    "ExecuteTime": {
     "end_time": "2024-08-19T14:44:56.585919Z",
     "start_time": "2024-08-19T14:44:32.559152Z"
    }
   },
   "outputs": [
    {
     "name": "stdout",
     "output_type": "stream",
     "text": [
      "1/1 [==============================] - 1s 1s/step\n",
      "1/1 [==============================] - 1s 1s/step\n"
     ]
    }
   ],
   "source": [
    "import numpy as np\n",
    "import tensorflow as tf\n",
    "\n",
    "# Obtener las etiquetas verdaderas y las predicciones del modelo\n",
    "true_labels = []\n",
    "predicted_labels = []\n",
    "\n",
    "for images, labels in test_ds:\n",
    "    preds = model.predict(images)\n",
    "    predicted_labels.extend(np.argmax(preds, axis=1))  # Obtener la clase predicha\n",
    "    true_labels.extend(np.argmax(labels, axis=1))  # Obtener la clase verdadera\n",
    "\n",
    "true_labels = np.array(true_labels)\n",
    "predicted_labels = np.array(predicted_labels)\n"
   ]
  },
  {
   "cell_type": "code",
   "execution_count": 22,
   "id": "1a61310e",
   "metadata": {},
   "outputs": [
    {
     "name": "stdout",
     "output_type": "stream",
     "text": [
      "[0 1 1 1 1 1 1 0 2 2 2 1 1 2 2 1 2 2 2 0 1 1 1 2 0 1 0 2 1 1 1 2 1 2]\n",
      "[1 1 1 1 1 1 1 1 1 1 1 1 1 1 1 1 1 1 1 1 1 1 1 1 1 1 1 1 1 1 1 1 1 1]\n"
     ]
    }
   ],
   "source": [
    "print(true_labels)\n",
    "print(predicted_labels)"
   ]
  },
  {
   "cell_type": "markdown",
   "id": "448f902d",
   "metadata": {},
   "source": [
    "Matriz de confusión"
   ]
  },
  {
   "cell_type": "code",
   "execution_count": 25,
   "id": "f6b1fa04919370fa",
   "metadata": {
    "ExecuteTime": {
     "end_time": "2024-08-19T14:45:02.058410Z",
     "start_time": "2024-08-19T14:45:01.138764Z"
    }
   },
   "outputs": [
    {
     "data": {
      "image/png": "[encoded data removed]",
      "text/plain": [
       "<Figure size 800x600 with 2 Axes>"
      ]
     },
     "metadata": {},
     "output_type": "display_data"
    }
   ],
   "source": [
    "# Crear la matriz de confusión\n",
    "cm = tf.math.confusion_matrix(labels=true_labels, predictions=predicted_labels)\n",
    "\n",
    "# Convertir a numpy para facilitar la visualización\n",
    "cm = cm.numpy()\n",
    "\n",
    "# Visualizar la matriz de confusión\n",
    "import matplotlib.pyplot as plt\n",
    "import seaborn as sns\n",
    "\n",
    "plt.figure(figsize=(8, 6))\n",
    "sns.heatmap(cm, annot=True, fmt=\"d\", cmap=\"Blues\", xticklabels=range(3), yticklabels=range(3))\n",
    "plt.xlabel('Predicted Label')\n",
    "plt.ylabel('True Label')\n",
    "plt.title('Confusion Matrix')\n",
    "plt.show()\n"
   ]
  },
  {
   "cell_type": "markdown",
   "id": "087a8a00",
   "metadata": {},
   "source": [
    "Predicit"
   ]
  },
  {
   "cell_type": "code",
   "execution_count": 14,
   "id": "bb0468c7",
   "metadata": {},
   "outputs": [
    {
     "name": "stderr",
     "output_type": "stream",
     "text": [
      "WARNING:absl:Compiled the loaded model, but the compiled metrics have yet to be built. `model.compile_metrics` will be empty until you train or evaluate the model.\n"
     ]
    },
    {
     "name": "stdout",
     "output_type": "stream",
     "text": [
      "\u001b[1m1/1\u001b[0m \u001b[32m━━━━━━━━━━━━━━━━━━━━\u001b[0m\u001b[37m\u001b[0m \u001b[1m2s\u001b[0m 2s/step\n"
     ]
    }
   ],
   "source": [
    "import tensorflow as tf\n",
    "\n",
    "# Cargar el modelo \n",
    "model = tf.keras.models.load_model('model.h5')\n",
    "\n",
    "# Cargar la imagen\n",
    "img = tf.keras.preprocessing.image.load_img('Nuevo/test/Mala/IMG_20240928_155035_769.jpg', target_size=(96, 96))\n",
    "\n",
    "# Convertir la imagen a un array\n",
    "img_array = tf.keras.preprocessing.image.img_to_array(img)\n",
    "\n",
    "# Añadir una dimensión extra\n",
    "img_array = tf.expand_dims(img_array, 0)\n",
    "\n",
    "# Predecir la clase de la imagen\n",
    "predictions = model.predict(img_array)\n"
   ]
  }
 ],
 "metadata": {
  "kernelspec": {
   "display_name": "Python 3",
   "language": "python",
   "name": "python3"
  },
  "language_info": {
   "codemirror_mode": {
    "name": "ipython",
    "version": 3
   },
   "file_extension": ".py",
   "mimetype": "text/x-python",
   "name": "python",
   "nbconvert_exporter": "python",
   "pygments_lexer": "ipython3",
   "version": "3.10.11"
  }
 },
 "nbformat": 4,
 "nbformat_minor": 5
}
